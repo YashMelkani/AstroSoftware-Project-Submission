{
 "cells": [
  {
   "cell_type": "markdown",
   "metadata": {},
   "source": [
    "# Streaks in ZTF images\n",
    "\n",
    "*Yash Melkani*"
   ]
  },
  {
   "cell_type": "code",
   "execution_count": 1,
   "metadata": {},
   "outputs": [],
   "source": [
    "from scripts.streaks import *\n",
    "%matplotlib inline \n"
   ]
  },
  {
   "cell_type": "markdown",
   "metadata": {},
   "source": [
    "#### Download ZTF img from IRSA"
   ]
  },
  {
   "cell_type": "markdown",
   "metadata": {},
   "source": [
    "download_ZTF() allows you to download ZTF images from the IRSA database.\n",
    "\n",
    "To download ZTF image data, the ra, dec, start and end times must be set in the function call. Optional parameters include metatable_path which determines where to save the metatable (default is None so the metatable is not saved),  kind (default is \"sci\"), and kind_type (default is \"sciimg.fits\") which specify what data you want to access."
   ]
  },
  {
   "cell_type": "code",
   "execution_count": 2,
   "metadata": {},
   "outputs": [
    {
     "name": "stdout",
     "output_type": "stream",
     "text": [
      "delayed\n"
     ]
    },
    {
     "name": "stderr",
     "output_type": "stream",
     "text": [
      "C:\\Users\\yashm\\anaconda3\\lib\\site-packages\\ztfquery\\io.py:647: UserWarning: No parallel downloading\n",
      "  warnings.warn(\"No parallel downloading\")\n",
      "C:\\Users\\yashm\\anaconda3\\lib\\site-packages\\ztfquery\\io.py:696: UserWarning: ./Data/sci/2019/1210/448160/ztf_20191210448160_000667_zr_c02_o_q2_sciimg.fits already exists: skipped\n",
      "  warnings.warn(\"%s already exists: skipped\"%fileout)\n",
      "C:\\Users\\yashm\\anaconda3\\lib\\site-packages\\ztfquery\\io.py:696: UserWarning: ./Data/sci/2019/1213/433472/ztf_20191213433472_000667_zr_c02_o_q2_sciimg.fits already exists: skipped\n",
      "  warnings.warn(\"%s already exists: skipped\"%fileout)\n",
      "C:\\Users\\yashm\\anaconda3\\lib\\site-packages\\ztfquery\\io.py:696: UserWarning: ./Data/sci/2019/1213/432569/ztf_20191213432569_001664_zr_c09_o_q1_sciimg.fits already exists: skipped\n",
      "  warnings.warn(\"%s already exists: skipped\"%fileout)\n",
      "C:\\Users\\yashm\\anaconda3\\lib\\site-packages\\ztfquery\\io.py:696: UserWarning: ./Data/sci/2019/1213/432118/ztf_20191213432118_001664_zr_c09_o_q1_sciimg.fits already exists: skipped\n",
      "  warnings.warn(\"%s already exists: skipped\"%fileout)\n",
      "C:\\Users\\yashm\\anaconda3\\lib\\site-packages\\ztfquery\\io.py:696: UserWarning: ./Data/sci/2019/1213/455891/ztf_20191213455891_000667_zr_c02_o_q2_sciimg.fits already exists: skipped\n",
      "  warnings.warn(\"%s already exists: skipped\"%fileout)\n"
     ]
    },
    {
     "data": {
      "text/html": [
       "<div>\n",
       "<style scoped>\n",
       "    .dataframe tbody tr th:only-of-type {\n",
       "        vertical-align: middle;\n",
       "    }\n",
       "\n",
       "    .dataframe tbody tr th {\n",
       "        vertical-align: top;\n",
       "    }\n",
       "\n",
       "    .dataframe thead th {\n",
       "        text-align: right;\n",
       "    }\n",
       "</style>\n",
       "<table border=\"1\" class=\"dataframe\">\n",
       "  <thead>\n",
       "    <tr style=\"text-align: right;\">\n",
       "      <th></th>\n",
       "      <th>in_row_id</th>\n",
       "      <th>in_ra</th>\n",
       "      <th>in_dec</th>\n",
       "      <th>ra</th>\n",
       "      <th>dec</th>\n",
       "      <th>infobits</th>\n",
       "      <th>field</th>\n",
       "      <th>ccdid</th>\n",
       "      <th>qid</th>\n",
       "      <th>rcid</th>\n",
       "      <th>...</th>\n",
       "      <th>ra1</th>\n",
       "      <th>dec1</th>\n",
       "      <th>ra2</th>\n",
       "      <th>dec2</th>\n",
       "      <th>ra3</th>\n",
       "      <th>dec3</th>\n",
       "      <th>ra4</th>\n",
       "      <th>dec4</th>\n",
       "      <th>ipac_pub_date</th>\n",
       "      <th>ipac_gid</th>\n",
       "    </tr>\n",
       "  </thead>\n",
       "  <tbody>\n",
       "    <tr>\n",
       "      <th>0</th>\n",
       "      <td>1</td>\n",
       "      <td>149.8603</td>\n",
       "      <td>30.7464</td>\n",
       "      <td>149.645745</td>\n",
       "      <td>30.896868</td>\n",
       "      <td>0</td>\n",
       "      <td>667</td>\n",
       "      <td>2</td>\n",
       "      <td>2</td>\n",
       "      <td>5</td>\n",
       "      <td>...</td>\n",
       "      <td>150.153812</td>\n",
       "      <td>31.327182</td>\n",
       "      <td>149.142334</td>\n",
       "      <td>31.330745</td>\n",
       "      <td>149.142327</td>\n",
       "      <td>30.464477</td>\n",
       "      <td>150.144928</td>\n",
       "      <td>30.460767</td>\n",
       "      <td>2020-06-24 00:00:00+00</td>\n",
       "      <td>1</td>\n",
       "    </tr>\n",
       "    <tr>\n",
       "      <th>1</th>\n",
       "      <td>1</td>\n",
       "      <td>149.8603</td>\n",
       "      <td>30.7464</td>\n",
       "      <td>149.653393</td>\n",
       "      <td>30.888854</td>\n",
       "      <td>0</td>\n",
       "      <td>667</td>\n",
       "      <td>2</td>\n",
       "      <td>2</td>\n",
       "      <td>5</td>\n",
       "      <td>...</td>\n",
       "      <td>150.161456</td>\n",
       "      <td>31.319142</td>\n",
       "      <td>149.150059</td>\n",
       "      <td>31.322751</td>\n",
       "      <td>149.150009</td>\n",
       "      <td>30.456508</td>\n",
       "      <td>150.152453</td>\n",
       "      <td>30.452727</td>\n",
       "      <td>2020-06-24 00:00:00+00</td>\n",
       "      <td>1</td>\n",
       "    </tr>\n",
       "    <tr>\n",
       "      <th>2</th>\n",
       "      <td>1</td>\n",
       "      <td>149.8603</td>\n",
       "      <td>30.7464</td>\n",
       "      <td>150.064970</td>\n",
       "      <td>31.069501</td>\n",
       "      <td>0</td>\n",
       "      <td>1664</td>\n",
       "      <td>9</td>\n",
       "      <td>1</td>\n",
       "      <td>32</td>\n",
       "      <td>...</td>\n",
       "      <td>150.587105</td>\n",
       "      <td>31.487609</td>\n",
       "      <td>149.574362</td>\n",
       "      <td>31.514954</td>\n",
       "      <td>149.547090</td>\n",
       "      <td>30.649056</td>\n",
       "      <td>150.551044</td>\n",
       "      <td>30.622131</td>\n",
       "      <td>2021-06-30 00:00:00+00</td>\n",
       "      <td>3</td>\n",
       "    </tr>\n",
       "    <tr>\n",
       "      <th>3</th>\n",
       "      <td>1</td>\n",
       "      <td>149.8603</td>\n",
       "      <td>30.7464</td>\n",
       "      <td>150.064863</td>\n",
       "      <td>31.069451</td>\n",
       "      <td>0</td>\n",
       "      <td>1664</td>\n",
       "      <td>9</td>\n",
       "      <td>1</td>\n",
       "      <td>32</td>\n",
       "      <td>...</td>\n",
       "      <td>150.586995</td>\n",
       "      <td>31.487573</td>\n",
       "      <td>149.574260</td>\n",
       "      <td>31.514891</td>\n",
       "      <td>149.547012</td>\n",
       "      <td>30.649040</td>\n",
       "      <td>150.550928</td>\n",
       "      <td>30.622085</td>\n",
       "      <td>2021-06-30 00:00:00+00</td>\n",
       "      <td>2</td>\n",
       "    </tr>\n",
       "    <tr>\n",
       "      <th>4</th>\n",
       "      <td>1</td>\n",
       "      <td>149.8603</td>\n",
       "      <td>30.7464</td>\n",
       "      <td>149.654314</td>\n",
       "      <td>30.889933</td>\n",
       "      <td>0</td>\n",
       "      <td>667</td>\n",
       "      <td>2</td>\n",
       "      <td>2</td>\n",
       "      <td>5</td>\n",
       "      <td>...</td>\n",
       "      <td>150.162346</td>\n",
       "      <td>31.320240</td>\n",
       "      <td>149.150942</td>\n",
       "      <td>31.323802</td>\n",
       "      <td>149.150970</td>\n",
       "      <td>30.457551</td>\n",
       "      <td>150.153380</td>\n",
       "      <td>30.453854</td>\n",
       "      <td>2020-06-24 00:00:00+00</td>\n",
       "      <td>1</td>\n",
       "    </tr>\n",
       "  </tbody>\n",
       "</table>\n",
       "<p>5 rows × 45 columns</p>\n",
       "</div>"
      ],
      "text/plain": [
       "   in_row_id     in_ra   in_dec          ra        dec  infobits  field  \\\n",
       "0          1  149.8603  30.7464  149.645745  30.896868         0    667   \n",
       "1          1  149.8603  30.7464  149.653393  30.888854         0    667   \n",
       "2          1  149.8603  30.7464  150.064970  31.069501         0   1664   \n",
       "3          1  149.8603  30.7464  150.064863  31.069451         0   1664   \n",
       "4          1  149.8603  30.7464  149.654314  30.889933         0    667   \n",
       "\n",
       "   ccdid  qid  rcid  ...         ra1       dec1         ra2       dec2  \\\n",
       "0      2    2     5  ...  150.153812  31.327182  149.142334  31.330745   \n",
       "1      2    2     5  ...  150.161456  31.319142  149.150059  31.322751   \n",
       "2      9    1    32  ...  150.587105  31.487609  149.574362  31.514954   \n",
       "3      9    1    32  ...  150.586995  31.487573  149.574260  31.514891   \n",
       "4      2    2     5  ...  150.162346  31.320240  149.150942  31.323802   \n",
       "\n",
       "          ra3       dec3         ra4       dec4           ipac_pub_date  \\\n",
       "0  149.142327  30.464477  150.144928  30.460767  2020-06-24 00:00:00+00   \n",
       "1  149.150009  30.456508  150.152453  30.452727  2020-06-24 00:00:00+00   \n",
       "2  149.547090  30.649056  150.551044  30.622131  2021-06-30 00:00:00+00   \n",
       "3  149.547012  30.649040  150.550928  30.622085  2021-06-30 00:00:00+00   \n",
       "4  149.150970  30.457551  150.153380  30.453854  2020-06-24 00:00:00+00   \n",
       "\n",
       "   ipac_gid  \n",
       "0         1  \n",
       "1         1  \n",
       "2         3  \n",
       "3         2  \n",
       "4         1  \n",
       "\n",
       "[5 rows x 45 columns]"
      ]
     },
     "execution_count": 2,
     "metadata": {},
     "output_type": "execute_result"
    }
   ],
   "source": [
    "ra = 149.8603\n",
    "dec = 30.7464\n",
    "tstart = time.Time(\"2019-12-08\").jd\n",
    "tend = time.Time(\"2019-12-15\").jd\n",
    "\n",
    "download_ZTF(ra, dec, tstart, tend)"
   ]
  },
  {
   "cell_type": "markdown",
   "metadata": {},
   "source": [
    "#### Get paths for ZTF images"
   ]
  },
  {
   "cell_type": "markdown",
   "metadata": {},
   "source": [
    "get_ZTF_path() returns the path of downloaded ZTF images given the ra, dec, and start and end times. Optional parameters include kind (default is \"sci\"), and kind_type (default is \"sciimg.fits\") which specify what data you want to access.\n",
    "\n",
    "Below is an example use of get_ZTF_path() for the data downloaded in the previous code cell."
   ]
  },
  {
   "cell_type": "code",
   "execution_count": 3,
   "metadata": {},
   "outputs": [
    {
     "data": {
      "text/plain": [
       "array(['./Data/sci/2019/1210/448160/ztf_20191210448160_000667_zr_c02_o_q2_sciimg.fits',\n",
       "       './Data/sci/2019/1213/433472/ztf_20191213433472_000667_zr_c02_o_q2_sciimg.fits',\n",
       "       './Data/sci/2019/1213/432569/ztf_20191213432569_001664_zr_c09_o_q1_sciimg.fits',\n",
       "       './Data/sci/2019/1213/432118/ztf_20191213432118_001664_zr_c09_o_q1_sciimg.fits',\n",
       "       './Data/sci/2019/1213/455891/ztf_20191213455891_000667_zr_c02_o_q2_sciimg.fits'],\n",
       "      dtype='<U77')"
      ]
     },
     "execution_count": 3,
     "metadata": {},
     "output_type": "execute_result"
    }
   ],
   "source": [
    "ra = 149.8603\n",
    "dec = 30.7464\n",
    "tstart = time.Time(\"2019-12-08\").jd\n",
    "tend = time.Time(\"2019-12-15\").jd\n",
    "\n",
    "get_ZTF_path(ra, dec, tstart, tend)"
   ]
  },
  {
   "cell_type": "markdown",
   "metadata": {},
   "source": [
    "#### View ZTF Img"
   ]
  },
  {
   "cell_type": "markdown",
   "metadata": {},
   "source": [
    "To view ZTF images, use the display_fit() function. The function takes in a ZTF image file path as an input and plots the resulting image."
   ]
  },
  {
   "cell_type": "code",
   "execution_count": 4,
   "metadata": {},
   "outputs": [
    {
     "data": {
      "image/png": "[encoded data removed]",
      "text/plain": [
       "<Figure size 432x288 with 1 Axes>"
      ]
     },
     "metadata": {
      "needs_background": "light"
     },
     "output_type": "display_data"
    }
   ],
   "source": [
    "display_fit(\"./Data/sci/2019/1210/448160/ztf_20191210448160_000667_zr_c02_o_q2_sciimg.fits\")"
   ]
  },
  {
   "cell_type": "markdown",
   "metadata": {},
   "source": [
    "You can also get an array of the fit from its path. Below is an example of simple thresholding with a ZTF image."
   ]
  },
  {
   "cell_type": "code",
   "execution_count": 5,
   "metadata": {},
   "outputs": [
    {
     "data": {
      "text/plain": [
       "<matplotlib.image.AxesImage at 0x1d3a7d81160>"
      ]
     },
     "execution_count": 5,
     "metadata": {},
     "output_type": "execute_result"
    },
    {
     "data": {
      "image/png": "[encoded data removed]",
      "text/plain": [
       "<Figure size 432x288 with 1 Axes>"
      ]
     },
     "metadata": {
      "needs_background": "light"
     },
     "output_type": "display_data"
    }
   ],
   "source": [
    "import numpy as np\n",
    "img_arr = get_img(\"./Data/sci/2019/1210/448160/ztf_20191210448160_000667_zr_c02_o_q2_sciimg.fits\")\n",
    "mask = np.zeros(shape = img_arr.shape)\n",
    "mask[img_arr>600] = 1\n",
    "plt.imshow(mask)"
   ]
  },
  {
   "cell_type": "markdown",
   "metadata": {},
   "source": [
    "#### Detect Streaks"
   ]
  },
  {
   "cell_type": "markdown",
   "metadata": {},
   "source": [
    "find_streaks() will look for horizontal and vertical streaks in the ZTF image. The function takes in the path to the fits file as well as a threshold for detection (between 0 and 1). The threshold for detection is automatically set to 0.05 but this can be changed in the function call. \n",
    "The method returns two arrays, the first being the row indices of detected horizontal streaks and the second being the column indices of detected vertical streaks.\n",
    "\n",
    "Below is an example use. For this file, the find_streaks() method did not detect any streaks in the image."
   ]
  },
  {
   "cell_type": "code",
   "execution_count": 6,
   "metadata": {},
   "outputs": [
    {
     "name": "stdout",
     "output_type": "stream",
     "text": [
      "Horizontal streaks: (array([], dtype=int64),) Verticle Streaks: (array([], dtype=int64),)\n"
     ]
    }
   ],
   "source": [
    "h_streaks, v_streaks = find_streak(\"./Data/sci/2019/1210/448160/ztf_20191210448160_000667_zr_c02_o_q2_sciimg.fits\")\n",
    "print(f\"Horizontal streaks: {h_streaks} Verticle Streaks: {v_streaks}\")"
   ]
  },
  {
   "cell_type": "markdown",
   "metadata": {},
   "source": [
    "Below is an example of find_streaks identifying a verticle streak in the image\n",
    "(the \"/streaks/\" folder contains example images from ZTF which have streaks)."
   ]
  },
  {
   "cell_type": "code",
   "execution_count": 7,
   "metadata": {},
   "outputs": [
    {
     "name": "stdout",
     "output_type": "stream",
     "text": [
      "Horizontal streaks: (array([], dtype=int64),) Verticle Streaks: (array([370, 371], dtype=int64),)\n"
     ]
    }
   ],
   "source": [
    "h_streaks, v_streaks = find_streak(\"./streaks/sci/2018/1104/550428/ztf_20181104550428_001664_zr_c09_o_q1_sciimg_ra149.8603_dec30.7464_asec500.fits\")\n",
    "print(f\"Horizontal streaks: {h_streaks} Verticle Streaks: {v_streaks}\")"
   ]
  }
 ],
 "metadata": {
  "kernelspec": {
   "display_name": "Python 3",
   "language": "python",
   "name": "python3"
  },
  "language_info": {
   "codemirror_mode": {
    "name": "ipython",
    "version": 3
   },
   "file_extension": ".py",
   "mimetype": "text/x-python",
   "name": "python",
   "nbconvert_exporter": "python",
   "pygments_lexer": "ipython3",
   "version": "3.8.3"
  }
 },
 "nbformat": 4,
 "nbformat_minor": 4
}
